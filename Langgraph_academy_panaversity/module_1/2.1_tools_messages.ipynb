{
 "cells": [
  {
   "cell_type": "markdown",
   "metadata": {},
   "source": [
    "# LLM Actions and Structure Messages\n",
    "\n",
    "## Review\n",
    "\n",
    "We built a simple graph with nodes, normal edges, and conditional edges.\n",
    "\n",
    "## Goals\n",
    "\n",
    "Now, let's understand the power of Actions with AI Models and before that structure our prompts."
   ]
  },
  {
   "cell_type": "markdown",
   "metadata": {},
   "source": [
    "## Messages\n",
    "\n",
    "Chat models can use [`messages`](https://python.langchain.com/v0.2/docs/concepts/#messages), which capture different roles within a conversation.\n",
    "\n",
    "LangChain supports various message types, including `HumanMessage`, `AIMessage`, `SystemMessage`, and `ToolMessage`.\n",
    "\n",
    "These represent a message from the user, from chat model, for the chat model to instruct behavior, and from a tool call.\n",
    "\n",
    "Let's create a list of messages.\n",
    "\n",
    "Each message can be supplied with a few things:\n",
    "\n",
    "* `content` - content of the message\n",
    "* `name` - optionally, a message author\n",
    "* `response_metadata` - optionally, a dict of metadata (e.g., often populated by model provider for `AIMessages`)"
   ]
  },
  {
   "cell_type": "code",
   "metadata": {
    "ExecuteTime": {
     "end_time": "2025-02-18T17:17:30.078203Z",
     "start_time": "2025-02-18T17:17:30.070784Z"
    }
   },
   "source": [
    "from pprint import pprint\n",
    "from typing import Dict\n",
    "\n",
    "from langchain_core.messages import AIMessage, HumanMessage, SystemMessage\n",
    "\n",
    "# Creating History of Messages\n",
    "\n",
    "messages = [AIMessage(content=f\"So you said you were researching ocean mammals?\", name=\"Model\")]\n",
    "messages.append(HumanMessage(content=f\"Yes, that's right.\",name=\"Lance\"))\n",
    "messages.append(AIMessage(content=f\"Great, what would you like to learn about.\", name=\"Model\"))\n",
    "messages.append(HumanMessage(content=f\"I want to learn about the best place to see Orcas in the US.\", name=\"Lance\"))\n",
    "\n",
    "for m in messages:\n",
    "    m.pretty_print()"
   ],
   "outputs": [
    {
     "name": "stdout",
     "output_type": "stream",
     "text": [
      "==================================\u001B[1m Ai Message \u001B[0m==================================\n",
      "Name: Model\n",
      "\n",
      "So you said you were researching ocean mammals?\n",
      "================================\u001B[1m Human Message \u001B[0m=================================\n",
      "Name: Lance\n",
      "\n",
      "Yes, that's right.\n",
      "==================================\u001B[1m Ai Message \u001B[0m==================================\n",
      "Name: Model\n",
      "\n",
      "Great, what would you like to learn about.\n",
      "================================\u001B[1m Human Message \u001B[0m=================================\n",
      "Name: Lance\n",
      "\n",
      "I want to learn about the best place to see Orcas in the US.\n"
     ]
    }
   ],
   "execution_count": 2
  },
  {
   "cell_type": "markdown",
   "metadata": {},
   "source": [
    "From now let's use HumanMessage to pass our Prompt to Model"
   ]
  },
  {
   "cell_type": "code",
   "metadata": {
    "ExecuteTime": {
     "end_time": "2025-02-18T17:18:11.362140Z",
     "start_time": "2025-02-18T17:18:11.330517Z"
    }
   },
   "source": [
    "from dotenv import load_dotenv\n",
    "import os\n",
    "load_dotenv(r\"H:\\My_LangGraph_toturial\\.env\")\n",
    "\n",
    "def _set_env(var: str):\n",
    "    if not os.environ.get(var):\n",
    "        os.environ[var] = os.getenv(var)\n",
    "\n",
    "_set_env(\"OPENAI_API_KEY\")\n",
    "print(os.getenv(\"OPENAI_API_KEY)\"))\n",
    "\n"
   ],
   "outputs": [
    {
     "name": "stdout",
     "output_type": "stream",
     "text": [
      "None\n"
     ]
    }
   ],
   "execution_count": 3
  },
  {
   "cell_type": "code",
   "execution_count": 16,
   "metadata": {},
   "outputs": [
    {
     "name": "stdout",
     "output_type": "stream",
     "text": [
      "Note: you may need to restart the kernel to use updated packages.\n"
     ]
    }
   ],
   "source": "%pip install -q -U langchain-openai"
  },
  {
   "cell_type": "code",
   "metadata": {
    "ExecuteTime": {
     "end_time": "2025-02-18T17:20:30.273608Z",
     "start_time": "2025-02-18T17:20:29.623673Z"
    }
   },
   "source": [
    "from langchain_openai import ChatOpenAI\n",
    "from langchain_core.messages import AIMessage\n",
    "from langchain_core.messages import HumanMessage\n",
    "openai_api_key = os.getenv(\"OPENAI_API_KEY\")\n",
    "# Initialize an instance of the ChatGoogleGenerativeAI with specific parameters\n",
    "from langchain_openai import ChatOpenAI\n",
    "\n",
    "llm :ChatOpenAI = ChatOpenAI(\n",
    "    model=\"gpt-3.5-turbo-0125\",\n",
    "    temperature=0,\n",
    "    max_tokens=50,\n",
    "    timeout=None,\n",
    "    max_retries=2,\n",
    "    api_key= openai_api_key,\n",
    ")"
   ],
   "outputs": [],
   "execution_count": 5
  },
  {
   "cell_type": "code",
   "metadata": {
    "ExecuteTime": {
     "end_time": "2025-02-18T17:20:31.869783Z",
     "start_time": "2025-02-18T17:20:30.935230Z"
    }
   },
   "source": [
    "simple_call = llm.invoke(\"Hi\")\n",
    "print(simple_call)"
   ],
   "outputs": [
    {
     "name": "stdout",
     "output_type": "stream",
     "text": [
      "content='Hello! How can I assist you today?' additional_kwargs={'refusal': None} response_metadata={'token_usage': {'completion_tokens': 10, 'prompt_tokens': 8, 'total_tokens': 18, 'completion_tokens_details': {'accepted_prediction_tokens': 0, 'audio_tokens': 0, 'reasoning_tokens': 0, 'rejected_prediction_tokens': 0}, 'prompt_tokens_details': {'audio_tokens': 0, 'cached_tokens': 0}}, 'model_name': 'gpt-3.5-turbo-0125', 'system_fingerprint': None, 'finish_reason': 'stop', 'logprobs': None} id='run-0ede1f85-6dad-49c5-990b-a5e1dd05d604-0' usage_metadata={'input_tokens': 8, 'output_tokens': 10, 'total_tokens': 18, 'input_token_details': {'audio': 0, 'cache_read': 0}, 'output_token_details': {'audio': 0, 'reasoning': 0}}\n"
     ]
    }
   ],
   "execution_count": 6
  },
  {
   "cell_type": "code",
   "metadata": {
    "ExecuteTime": {
     "end_time": "2025-02-18T17:20:46.078873Z",
     "start_time": "2025-02-18T17:20:45.283938Z"
    }
   },
   "source": [
    "messages = [HumanMessage(content=\"What is your name?\")]\n",
    "result = llm.invoke(messages)\n",
    "print(result)"
   ],
   "outputs": [
    {
     "name": "stdout",
     "output_type": "stream",
     "text": [
      "content='I am an AI digital assistant and I do not have a personal name. You can simply refer to me as Assistant. How can I assist you today?' additional_kwargs={'refusal': None} response_metadata={'token_usage': {'completion_tokens': 32, 'prompt_tokens': 12, 'total_tokens': 44, 'completion_tokens_details': {'accepted_prediction_tokens': 0, 'audio_tokens': 0, 'reasoning_tokens': 0, 'rejected_prediction_tokens': 0}, 'prompt_tokens_details': {'audio_tokens': 0, 'cached_tokens': 0}}, 'model_name': 'gpt-3.5-turbo-0125', 'system_fingerprint': None, 'finish_reason': 'stop', 'logprobs': None} id='run-4fad2cfe-8f69-4137-a1b2-26d0d3b08d89-0' usage_metadata={'input_tokens': 12, 'output_tokens': 32, 'total_tokens': 44, 'input_token_details': {'audio': 0, 'cache_read': 0}, 'output_token_details': {'audio': 0, 'reasoning': 0}}\n"
     ]
    }
   ],
   "execution_count": 7
  },
  {
   "cell_type": "code",
   "metadata": {
    "ExecuteTime": {
     "end_time": "2025-02-18T17:22:29.523829Z",
     "start_time": "2025-02-18T17:22:28.890928Z"
    }
   },
   "source": [
    "system_human_message = [\n",
    "                SystemMessage(content=\"You are a helpful assistant! Your name is Bob.\"),\n",
    "                HumanMessage(content=\"What is your name?\")\n",
    "            ]\n",
    "result = llm.invoke(system_human_message)\n",
    "print(result)\n",
    "\n",
    " "
   ],
   "outputs": [
    {
     "name": "stdout",
     "output_type": "stream",
     "text": [
      "content='Hello! My name is Bob. How can I assist you today?' additional_kwargs={'refusal': None} response_metadata={'token_usage': {'completion_tokens': 15, 'prompt_tokens': 27, 'total_tokens': 42, 'completion_tokens_details': {'accepted_prediction_tokens': 0, 'audio_tokens': 0, 'reasoning_tokens': 0, 'rejected_prediction_tokens': 0}, 'prompt_tokens_details': {'audio_tokens': 0, 'cached_tokens': 0}}, 'model_name': 'gpt-3.5-turbo-0125', 'system_fingerprint': None, 'finish_reason': 'stop', 'logprobs': None} id='run-6ce5fa21-0ece-45a2-b924-53438077b009-0' usage_metadata={'input_tokens': 27, 'output_tokens': 15, 'total_tokens': 42, 'input_token_details': {'audio': 0, 'cache_read': 0}, 'output_token_details': {'audio': 0, 'reasoning': 0}}\n"
     ]
    }
   ],
   "execution_count": 8
  },
  {
   "cell_type": "code",
   "metadata": {
    "ExecuteTime": {
     "end_time": "2025-02-18T17:23:07.818766Z",
     "start_time": "2025-02-18T17:23:06.824692Z"
    }
   },
   "source": [
    "context_call = llm.invoke(messages)\n",
    "print(context_call)"
   ],
   "outputs": [
    {
     "name": "stdout",
     "output_type": "stream",
     "text": [
      "content='I am a language model AI created by OpenAI, so I do not have a personal name. You can call me Assistant or AI. How can I assist you today?' additional_kwargs={'refusal': None} response_metadata={'token_usage': {'completion_tokens': 36, 'prompt_tokens': 12, 'total_tokens': 48, 'completion_tokens_details': {'accepted_prediction_tokens': 0, 'audio_tokens': 0, 'reasoning_tokens': 0, 'rejected_prediction_tokens': 0}, 'prompt_tokens_details': {'audio_tokens': 0, 'cached_tokens': 0}}, 'model_name': 'gpt-3.5-turbo-0125', 'system_fingerprint': None, 'finish_reason': 'stop', 'logprobs': None} id='run-9a09d9e2-dca9-4196-ba32-14aa70bddd19-0' usage_metadata={'input_tokens': 12, 'output_tokens': 36, 'total_tokens': 48, 'input_token_details': {'audio': 0, 'cache_read': 0}, 'output_token_details': {'audio': 0, 'reasoning': 0}}\n"
     ]
    }
   ],
   "execution_count": 9
  },
  {
   "cell_type": "markdown",
   "metadata": {},
   "source": [
    "## Tools\n",
    "\n",
    "Tools are useful whenever you want a model to interact with external systems.\n",
    "\n",
    "External systems (e.g., APIs) often require a particular input schema or payload, rather than natural language.\n",
    "\n",
    "When we bind an API, for example, as a tool we given the model awareness of the required input schema.\n",
    "\n",
    "The model will choose to call a tool based upon the natural language input from the user.\n",
    "\n",
    "And, it will return an output that adheres to the tool's schema.\n",
    "\n",
    "[Many LLM providers support tool calling](https://python.langchain.com/v0.1/docs/integrations/chat/) and [tool calling interface](https://blog.langchain.dev/improving-core-tool-interfaces-and-docs-in-langchain/) in LangChain is simple.\n",
    "\n",
    "You can simply pass any Python `function` into `ChatModel.bind_tools(function)`.\n",
    "\n",
    "![Screenshot 2024-08-19 at 7.46.28 PM.png](https://cdn.prod.website-files.com/65b8cd72835ceeacd4449a53/66dbab08dc1c17a7a57f9960_chain2.png)"
   ]
  },
  {
   "cell_type": "code",
   "metadata": {
    "id": "k0zSnHU4Kt82",
    "ExecuteTime": {
     "end_time": "2025-02-18T17:42:30.648045Z",
     "start_time": "2025-02-18T17:42:28.033077Z"
    }
   },
   "source": [
    "%%capture --no-stderr\n",
    "%pip install --quiet -U langchain_core langgraph"
   ],
   "outputs": [],
   "execution_count": 10
  },
  {
   "cell_type": "code",
   "metadata": {
    "id": "yQ7JAd3hKx7H",
    "ExecuteTime": {
     "end_time": "2025-02-18T18:48:57.824281Z",
     "start_time": "2025-02-18T18:48:57.263092Z"
    }
   },
   "source": [
    "llm :ChatOpenAI = ChatOpenAI(\n",
    "    model=\"gpt-3.5-turbo-0125\",\n",
    "    temperature=0,\n",
    "    max_tokens=20,\n",
    "    timeout=None,\n",
    "    max_retries=2,\n",
    "    api_key= openai_api_key,\n",
    ")"
   ],
   "outputs": [],
   "execution_count": 37
  },
  {
   "cell_type": "markdown",
   "metadata": {
    "id": "n-MwHYPdNGDm"
   },
   "source": [
    "## Tool Calling"
   ]
  },
  {
   "cell_type": "code",
   "metadata": {
    "colab": {
     "base_uri": "https://localhost:8080/"
    },
    "id": "aaY-4l3pK5Kt",
    "outputId": "32c2f21f-3301-4747-96b0-796096d9e470",
    "ExecuteTime": {
     "end_time": "2025-02-18T17:43:11.390280Z",
     "start_time": "2025-02-18T17:43:11.359030Z"
    }
   },
   "source": [
    "print(\"\\n\\nllm\\n\", llm, \"\\n\\n\\n\")"
   ],
   "outputs": [
    {
     "name": "stdout",
     "output_type": "stream",
     "text": [
      "\n",
      "\n",
      "llm\n",
      " client=<openai.resources.chat.completions.completions.Completions object at 0x0000023707C8E620> async_client=<openai.resources.chat.completions.completions.AsyncCompletions object at 0x0000023707C8CEB0> root_client=<openai.OpenAI object at 0x0000023707C8FC10> root_async_client=<openai.AsyncOpenAI object at 0x0000023707C8CDC0> model_name='gpt-3.5-turbo-0125' temperature=0.0 model_kwargs={} openai_api_key=SecretStr('**********') max_retries=2 max_tokens=50 \n",
      "\n",
      "\n",
      "\n"
     ]
    }
   ],
   "execution_count": 12
  },
  {
   "metadata": {
    "id": "V8CPSMndK1ie",
    "ExecuteTime": {
     "end_time": "2025-02-18T17:55:08.868364Z",
     "start_time": "2025-02-18T17:55:08.853056Z"
    }
   },
   "cell_type": "code",
   "source": [
    "def deposit_money(name: str, amount:int,  bank_account_no: int) -> dict[str, str]:\n",
    "    \"\"\"Deposit Money in Bank account.\n",
    "\n",
    "    Args:\n",
    "        name: Account holder name\n",
    "        amount : Amount to deposit\n",
    "        bank_account_no: customer bank account number\n",
    "\n",
    "    Returns:\n",
    "        dict: {\"status\": \"Deposit Successful in {name} Account\"}\n",
    "    \"\"\"\n",
    "    # BUSINESS LOGIC for Bank Deposit\n",
    "    # ......\n",
    "    return {\"status\": f\"Deposited {amount} Successfully in {name} Account\"}\n",
    "\n",
    "deposit_money(\"Zakir\", 5000, 12345)"
   ],
   "outputs": [
    {
     "data": {
      "text/plain": [
       "{'status': 'Deposited 5000 Successfully in Zakir Account'}"
      ]
     },
     "execution_count": 22,
     "metadata": {},
     "output_type": "execute_result"
    }
   ],
   "execution_count": 22
  },
  {
   "cell_type": "code",
   "metadata": {
    "colab": {
     "base_uri": "https://localhost:8080/"
    },
    "id": "6A3-xLJ6L5eI",
    "outputId": "30806d65-5607-44aa-91d8-6eaac928f67c",
    "ExecuteTime": {
     "end_time": "2025-02-18T17:55:15.968263Z",
     "start_time": "2025-02-18T17:55:15.952163Z"
    }
   },
   "source": "llm_with_tools_depo = llm.bind_tools([deposit_money])",
   "outputs": [],
   "execution_count": 23
  },
  {
   "cell_type": "code",
   "metadata": {
    "colab": {
     "base_uri": "https://localhost:8080/"
    },
    "id": "4qLqBwVnL_Lt",
    "outputId": "49d89b8a-54a0-4e75-d5bc-14ab6133e118",
    "ExecuteTime": {
     "end_time": "2025-02-18T17:55:17.907574Z",
     "start_time": "2025-02-18T17:55:17.882306Z"
    }
   },
   "source": "llm_with_tools_depo",
   "outputs": [
    {
     "data": {
      "text/plain": [
       "RunnableBinding(bound=ChatOpenAI(client=<openai.resources.chat.completions.completions.Completions object at 0x0000023707C8E620>, async_client=<openai.resources.chat.completions.completions.AsyncCompletions object at 0x0000023707C8CEB0>, root_client=<openai.OpenAI object at 0x0000023707C8FC10>, root_async_client=<openai.AsyncOpenAI object at 0x0000023707C8CDC0>, model_name='gpt-3.5-turbo-0125', temperature=0.0, model_kwargs={}, openai_api_key=SecretStr('**********'), max_retries=2, max_tokens=50), kwargs={'tools': [{'type': 'function', 'function': {'name': 'deposit_money', 'description': 'Deposit Money in Bank account.', 'parameters': {'properties': {'name': {'description': 'Account holder name', 'type': 'string'}, 'amount': {'description': 'Amount to deposit', 'type': 'integer'}, 'bank_account_no': {'description': 'customer bank account number', 'type': 'integer'}}, 'required': ['name', 'amount', 'bank_account_no'], 'type': 'object'}}}]}, config={}, config_factories=[])"
      ]
     },
     "execution_count": 24,
     "metadata": {},
     "output_type": "execute_result"
    }
   ],
   "execution_count": 24
  },
  {
   "cell_type": "code",
   "metadata": {
    "colab": {
     "base_uri": "https://localhost:8080/"
    },
    "id": "QRDkyI9CMMUs",
    "outputId": "7c05f947-52d6-40b2-966d-eec7f678529a",
    "ExecuteTime": {
     "end_time": "2025-02-18T17:55:51.831135Z",
     "start_time": "2025-02-18T17:55:50.931740Z"
    }
   },
   "source": [
    "from langchain_core.messages import HumanMessage\n",
    "# llm without tools\n",
    "call = llm.invoke(\n",
    "    [HumanMessage(content=f\"Deposit 40$ in Zakir Account. His acc number is 00123\", name=\"Muhammad\")])\n",
    "call\n"
   ],
   "outputs": [
    {
     "data": {
      "text/plain": [
       "AIMessage(content=\"I'm sorry, but I am not able to perform financial transactions. Please visit your bank or use an online banking service to deposit the money into Zakir's account.\", additional_kwargs={'refusal': None}, response_metadata={'token_usage': {'completion_tokens': 35, 'prompt_tokens': 27, 'total_tokens': 62, 'completion_tokens_details': {'accepted_prediction_tokens': 0, 'audio_tokens': 0, 'reasoning_tokens': 0, 'rejected_prediction_tokens': 0}, 'prompt_tokens_details': {'audio_tokens': 0, 'cached_tokens': 0}}, 'model_name': 'gpt-3.5-turbo-0125', 'system_fingerprint': None, 'finish_reason': 'stop', 'logprobs': None}, id='run-407c92be-cfdd-4cfc-9792-b62c99a0e744-0', usage_metadata={'input_tokens': 27, 'output_tokens': 35, 'total_tokens': 62, 'input_token_details': {'audio': 0, 'cache_read': 0}, 'output_token_details': {'audio': 0, 'reasoning': 0}})"
      ]
     },
     "execution_count": 26,
     "metadata": {},
     "output_type": "execute_result"
    }
   ],
   "execution_count": 26
  },
  {
   "cell_type": "code",
   "metadata": {
    "colab": {
     "base_uri": "https://localhost:8080/"
    },
    "id": "FXfKvapxLAg_",
    "outputId": "87056c14-ae62-4563-a9f9-00bf3692cd4f",
    "ExecuteTime": {
     "end_time": "2025-02-18T18:11:27.280440Z",
     "start_time": "2025-02-18T18:11:26.321433Z"
    }
   },
   "source": [
    "call = llm_with_tools_depo.invoke(\n",
    "    [HumanMessage(content=f\"Deposit 40$ Money in Ahmad Account. His acc number is 00123\", name=\"Muhammad\")])\n",
    "call"
   ],
   "outputs": [
    {
     "data": {
      "text/plain": [
       "AIMessage(content='', additional_kwargs={'tool_calls': [{'id': 'call_pHscTfN30szO16OUtAldhMG4', 'function': {'arguments': '{\"name\":\"Zakir\",\"amount\":40,\"bank_account_no\":123}', 'name': 'deposit_money'}, 'type': 'function'}], 'refusal': None}, response_metadata={'token_usage': {'completion_tokens': 28, 'prompt_tokens': 96, 'total_tokens': 124, 'completion_tokens_details': {'accepted_prediction_tokens': 0, 'audio_tokens': 0, 'reasoning_tokens': 0, 'rejected_prediction_tokens': 0}, 'prompt_tokens_details': {'audio_tokens': 0, 'cached_tokens': 0}}, 'model_name': 'gpt-3.5-turbo-0125', 'system_fingerprint': None, 'finish_reason': 'tool_calls', 'logprobs': None}, id='run-4955585a-e8d6-4db5-ab5d-fc760b466fee-0', tool_calls=[{'name': 'deposit_money', 'args': {'name': 'Zakir', 'amount': 40, 'bank_account_no': 123}, 'id': 'call_pHscTfN30szO16OUtAldhMG4', 'type': 'tool_call'}], usage_metadata={'input_tokens': 96, 'output_tokens': 28, 'total_tokens': 124, 'input_token_details': {'audio': 0, 'cache_read': 0}, 'output_token_details': {'audio': 0, 'reasoning': 0}})"
      ]
     },
     "execution_count": 28,
     "metadata": {},
     "output_type": "execute_result"
    }
   ],
   "execution_count": 28
  },
  {
   "metadata": {
    "ExecuteTime": {
     "end_time": "2025-02-18T18:47:00.355031Z",
     "start_time": "2025-02-18T18:46:58.897154Z"
    }
   },
   "cell_type": "code",
   "source": [
    "# We have an LLM Capable of Tool Calling: using bind_tools\n",
    "\n",
    "# Now Lets do the Orchestration Through LangGraph\n",
    "\n",
    "# 0.  State\n",
    "\n",
    "from typing_extensions import TypedDict\n",
    "\n",
    "class LastMessageState(TypedDict):\n",
    "  messages: list\n",
    "\n",
    "# 1. tool calling llm Node\n",
    "def call_llm(state: LastMessageState):\n",
    "  prompt = state[\"messages\"]\n",
    "  call_response = llm_with_tools_depo.invoke(prompt)\n",
    "  # messages.append(call_response)\n",
    "\n",
    "  # return {\"messages\": messages}\n",
    "  return {\"messages\": [call_response]}  # overriding the messages , message is a list , so we are returning a list\n",
    "\n",
    "\n",
    "mssg = [\n",
    "            SystemMessage(content=\"you are a helpful assistant! Your name is Bob.\"),\n",
    "            HumanMessage(content=\"What is your name?\")]\n",
    "\n",
    "call_llm(state= {\"messages\": mssg})\n"
   ],
   "outputs": [
    {
     "data": {
      "text/plain": [
       "{'messages': [AIMessage(content='My name is Bob. How can I assist you today?', additional_kwargs={'refusal': None}, response_metadata={'token_usage': {'completion_tokens': 14, 'prompt_tokens': 87, 'total_tokens': 101, 'completion_tokens_details': {'accepted_prediction_tokens': 0, 'audio_tokens': 0, 'reasoning_tokens': 0, 'rejected_prediction_tokens': 0}, 'prompt_tokens_details': {'audio_tokens': 0, 'cached_tokens': 0}}, 'model_name': 'gpt-3.5-turbo-0125', 'system_fingerprint': None, 'finish_reason': 'stop', 'logprobs': None}, id='run-7536d092-2e18-4c6a-b82f-a205f17879dd-0', usage_metadata={'input_tokens': 87, 'output_tokens': 14, 'total_tokens': 101, 'input_token_details': {'audio': 0, 'cache_read': 0}, 'output_token_details': {'audio': 0, 'reasoning': 0}})]}"
      ]
     },
     "execution_count": 34,
     "metadata": {},
     "output_type": "execute_result"
    }
   ],
   "execution_count": 34
  },
  {
   "cell_type": "markdown",
   "metadata": {
    "id": "uUV74OzmNRwK"
   },
   "source": [
    "### Building Graph"
   ]
  },
  {
   "cell_type": "code",
   "metadata": {
    "id": "bwUSDpDRNTNu",
    "ExecuteTime": {
     "end_time": "2025-02-18T18:49:03.501343Z",
     "start_time": "2025-02-18T18:49:03.485138Z"
    }
   },
   "source": [
    "# 2. Graph\n",
    "from langgraph.graph import StateGraph, START, END\n",
    "\n",
    "builder: StateGraph = StateGraph(LastMessageState)\n",
    "\n",
    "# define nodes\n",
    "builder.add_node(\"call_llm_with_tools\", call_llm)\n",
    "\n",
    "# define edges\n",
    "builder.add_edge(START, \"call_llm_with_tools\")\n",
    "builder.add_edge(\"call_llm_with_tools\", END)\n",
    "\n",
    "# build graph\n",
    "graph = builder.compile()\n"
   ],
   "outputs": [],
   "execution_count": 38
  },
  {
   "cell_type": "code",
   "metadata": {
    "colab": {
     "base_uri": "https://localhost:8080/",
     "height": 251
    },
    "id": "0xqNUBlwPi4Y",
    "outputId": "6452cc6a-58a0-4371-9b5f-640c1ec4ae0e",
    "ExecuteTime": {
     "end_time": "2025-02-18T18:49:07.158033Z",
     "start_time": "2025-02-18T18:49:07.098112Z"
    }
   },
   "source": [
    "from IPython.display import display, Image\n",
    "\n",
    "display(Image(graph.get_graph().draw_mermaid_png()))"
   ],
   "outputs": [
    {
     "data": {
      "image/png": "[encoded data removed]",
      "text/plain": [
       "<IPython.core.display.Image object>"
      ]
     },
     "metadata": {},
     "output_type": "display_data"
    }
   ],
   "execution_count": 39
  },
  {
   "cell_type": "code",
   "metadata": {
    "colab": {
     "base_uri": "https://localhost:8080/"
    },
    "id": "jPyDSV6FPqO-",
    "outputId": "3b3b3ae3-e4dd-4f1a-b18b-4cea33772c1a",
    "ExecuteTime": {
     "end_time": "2025-02-18T18:49:09.567982Z",
     "start_time": "2025-02-18T18:49:08.893235Z"
    }
   },
   "source": [
    "graph.invoke({\"messages\": [HumanMessage(content=\"Hi\")]})"
   ],
   "outputs": [
    {
     "data": {
      "text/plain": [
       "{'messages': [AIMessage(content='Hello! How can I assist you today?', additional_kwargs={'refusal': None}, response_metadata={'token_usage': {'completion_tokens': 11, 'prompt_tokens': 72, 'total_tokens': 83, 'completion_tokens_details': {'accepted_prediction_tokens': 0, 'audio_tokens': 0, 'reasoning_tokens': 0, 'rejected_prediction_tokens': 0}, 'prompt_tokens_details': {'audio_tokens': 0, 'cached_tokens': 0}}, 'model_name': 'gpt-3.5-turbo-0125', 'system_fingerprint': None, 'finish_reason': 'stop', 'logprobs': None}, id='run-a0489ea0-ee68-4601-b0fc-1463eee5b2d8-0', usage_metadata={'input_tokens': 72, 'output_tokens': 11, 'total_tokens': 83, 'input_token_details': {'audio': 0, 'cache_read': 0}, 'output_token_details': {'audio': 0, 'reasoning': 0}})]}"
      ]
     },
     "execution_count": 40,
     "metadata": {},
     "output_type": "execute_result"
    }
   ],
   "execution_count": 40
  },
  {
   "cell_type": "code",
   "metadata": {
    "colab": {
     "base_uri": "https://localhost:8080/"
    },
    "id": "d_Md3GjXP0yU",
    "outputId": "6d1f071f-7f6e-4f53-dae2-f2eda5409e55",
    "ExecuteTime": {
     "end_time": "2025-02-18T18:50:05.672805Z",
     "start_time": "2025-02-18T18:50:04.816783Z"
    }
   },
   "source": [
    "graph.invoke({\"messages\": [HumanMessage(content=\"Deposiut 7000 in Ahmad Account - his bank num is 001\")]})"
   ],
   "outputs": [
    {
     "data": {
      "text/plain": [
       "{'messages': [AIMessage(content='', additional_kwargs={'tool_calls': [{'id': 'call_kPhDaG0lLsqjQbZGwqaV43Wz', 'function': {'arguments': '{\"name\":\"Ahmad\",\"amount\":7000,\"bank_account_no\":1}', 'name': 'deposit_money'}, 'type': 'function'}], 'refusal': None}, response_metadata={'token_usage': {'completion_tokens': 28, 'prompt_tokens': 87, 'total_tokens': 115, 'completion_tokens_details': {'accepted_prediction_tokens': 0, 'audio_tokens': 0, 'reasoning_tokens': 0, 'rejected_prediction_tokens': 0}, 'prompt_tokens_details': {'audio_tokens': 0, 'cached_tokens': 0}}, 'model_name': 'gpt-3.5-turbo-0125', 'system_fingerprint': None, 'finish_reason': 'tool_calls', 'logprobs': None}, id='run-dc8d3b94-aa98-4943-9c00-408459b94de9-0', tool_calls=[{'name': 'deposit_money', 'args': {'name': 'Ahmad', 'amount': 7000, 'bank_account_no': 1}, 'id': 'call_kPhDaG0lLsqjQbZGwqaV43Wz', 'type': 'tool_call'}], usage_metadata={'input_tokens': 87, 'output_tokens': 28, 'total_tokens': 115, 'input_token_details': {'audio': 0, 'cache_read': 0}, 'output_token_details': {'audio': 0, 'reasoning': 0}})]}"
      ]
     },
     "execution_count": 41,
     "metadata": {},
     "output_type": "execute_result"
    }
   ],
   "execution_count": 41
  },
  {
   "cell_type": "markdown",
   "metadata": {},
   "source": [
    "#### Current Flow \n",
    "\n",
    "- LLM: Call this Tool\n",
    "- System: Called Tool and told LLM the result.\n",
    "\n",
    "#### Issue ??: Where is my Human Message \n",
    "\n",
    "Right now in response we only have AIMessage\n",
    "\n",
    "#### Solutions:\n",
    "\n",
    "- Proposal 1: manually Add Messages in call_llm using llm\n",
    "- Proposal 2: Reducer Functions to Keep History Context"
   ]
  },
  {
   "metadata": {},
   "cell_type": "code",
   "outputs": [],
   "execution_count": null,
   "source": ""
  }
 ],
 "metadata": {
  "colab": {
   "provenance": []
  },
  "kernelspec": {
   "display_name": "Python 3 (ipykernel)",
   "name": "python3",
   "language": "python"
  },
  "language_info": {
   "codemirror_mode": {
    "name": "ipython",
    "version": 3
   },
   "file_extension": ".py",
   "mimetype": "text/x-python",
   "name": "python",
   "nbconvert_exporter": "python",
   "pygments_lexer": "ipython3",
   "version": "3.12.6"
  }
 },
 "nbformat": 4,
 "nbformat_minor": 0
}
