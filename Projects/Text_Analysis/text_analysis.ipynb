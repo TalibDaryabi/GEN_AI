{
 "cells": [
  {
   "cell_type": "code",
   "id": "initial_id",
   "metadata": {
    "collapsed": true,
    "ExecuteTime": {
     "end_time": "2025-02-23T18:49:18.249317Z",
     "start_time": "2025-02-23T18:49:17.005936Z"
    }
   },
   "source": [
    "from tkinter.font import names\n",
    "\n",
    "from IPython.core.debugger import prompt\n",
    "from langchain.chains.qa_with_sources.stuff_prompt import template\n",
    "from langchain_openai import ChatOpenAI\n",
    "from typing import TypedDict , List\n",
    "from langgraph.graph import StateGraph, START, END\n",
    "from langchain.prompts import Prompt ,PromptTemplate\n",
    "from langchain.schema import HumanMessage, AIMessage , SystemMessage\n",
    "from IPython.display import display, Image\n",
    "\n",
    "from langgraph_notebook_examples.studio.chatbot import workflow\n",
    "from langgraph_notebook_examples.studio.mul_tool import sys_msg"
   ],
   "outputs": [],
   "execution_count": 33
  },
  {
   "metadata": {
    "ExecuteTime": {
     "end_time": "2025-02-23T16:55:50.132073Z",
     "start_time": "2025-02-23T16:55:50.116014Z"
    }
   },
   "cell_type": "code",
   "source": [
    "from dotenv import load_dotenv\n",
    "load_dotenv(\"H:\\My_LangGraph_toturial\\.env\")\n",
    "import os\n",
    "open_ai_key = os.getenv(\"OPENAI_API_KEY\")\n",
    "os.environ[\"OPENAI_API_KEY\"] = open_ai_key"
   ],
   "id": "adf0883b2f42b347",
   "outputs": [],
   "execution_count": 6
  },
  {
   "metadata": {
    "ExecuteTime": {
     "end_time": "2025-02-23T18:49:20.602438Z",
     "start_time": "2025-02-23T18:49:20.586438Z"
    }
   },
   "cell_type": "code",
   "source": [
    "class TextAnalysisState(TypedDict):\n",
    "    text: str\n",
    "    classification: str\n",
    "    entities: List[str]\n",
    "    summary: str\n"
   ],
   "id": "508735ab10d0fe1a",
   "outputs": [],
   "execution_count": 34
  },
  {
   "metadata": {
    "ExecuteTime": {
     "end_time": "2025-02-23T18:49:21.769445Z",
     "start_time": "2025-02-23T18:49:21.247406Z"
    }
   },
   "cell_type": "code",
   "source": "llm : ChatOpenAI = ChatOpenAI(model_name=\"gpt-3.5-turbo\", max_tokens=200)",
   "id": "d3927815eb0f2387",
   "outputs": [],
   "execution_count": 35
  },
  {
   "metadata": {
    "ExecuteTime": {
     "end_time": "2025-02-23T18:49:22.986137Z",
     "start_time": "2025-02-23T18:49:22.954981Z"
    }
   },
   "cell_type": "code",
   "source": [
    "\n",
    "def classification_node(state: TextAnalysisState) -> TextAnalysisState:\n",
    "    \"\"\"\n",
    "    This function will classify the given text and return the classification of the text.\n",
    "    :param state:\n",
    "    :return: one of the categories: News, Blog, Research, or Other.\n",
    "    \"\"\"\n",
    "    template = \"Classify the following text into one of the categories: News, Blog, Research, or Other.\\n\\n Text: {text}\"\n",
    "    prompt = PromptTemplate.from_template(template)\n",
    "\n",
    "    sys_msg = \"You are an AI assistant designed to classify text into predefined categories. Your task is to analyze the given text and assign it to one of the following categories: [News, Blog, Research, or Other]. Please provide your classification as a single word or phrase corresponding to the most appropriate category. If you're unsure, respond with Other. Do not explain your reasoning or provide additional commentary.\"\n",
    "\n",
    "    messages = [HumanMessage(content = prompt.format(text = state['text']))]\n",
    "    sys = [SystemMessage(content = sys_msg)]\n",
    "    final_message = messages + sys\n",
    "    classification = llm.invoke(final_message).content.strip()\n",
    "    return {\"classification\": classification}\n",
    "\n",
    "def entity_extraction_node(state: TextAnalysisState) -> TextAnalysisState:\n",
    "    \"\"\"\n",
    "    This function will extract entities from the given text and return the list of entities.\n",
    "    :param state:\n",
    "    :return: [Person, Organization, Location]\n",
    "\n",
    "    \"\"\"\n",
    "    template = \"Extract all the entities (Person, Organization, Location) from the following text. Provide the result as a comma-separated list.\\n\\nText:{text}\\n\\n  Entities:\"\n",
    "\n",
    "    prompt = PromptTemplate.from_template(template)\n",
    "\n",
    "    sys_msg = \"You are an AI assistant designed to extract entities from text. Your task is to analyze the given text and identify any entities that are mentioned. Entities can be people, organizations, locations. Please provide a list of entities that you find in the text. If you're unsure, you can respond with 'None'. Do not explain your reasoning or provide additional commentary.\"\n",
    "\n",
    "    messages = [HumanMessage(content = prompt.format(text = state['text']))]\n",
    "    sys = [SystemMessage(content = sys_msg)]\n",
    "    final_message = messages + sys\n",
    "    entities = llm.invoke(final_message).content.strip().split(\",\")\n",
    "    return {\"entities\": entities}\n",
    "\n",
    "def summarization_node(state: TextAnalysisState) -> TextAnalysisState:\n",
    "    ''' Summarize the text in one short sentence '''\n",
    "\n",
    "    template = \"Summarize the following text in one short sentence.\\n\\nText:{text}\\n\\n Summary:\"\n",
    "    prompt = PromptTemplate.from_template(template)\n",
    "\n",
    "    message = HumanMessage(content=prompt.format(text=state[\"text\"]))\n",
    "    summary = llm.invoke([message]).content.strip()\n",
    "    return {\"summary\": summary }\n",
    "\n",
    "workflow = StateGraph(TextAnalysisState)\n",
    "\n",
    "workflow.add_node(\"classification_node\", classification_node)\n",
    "workflow.add_node(\"entity_extraction\", entity_extraction_node)\n",
    "workflow.add_node(\"summarization_node\", summarization_node)\n",
    "\n",
    "workflow.add_edge(START, \"classification_node\")\n",
    "workflow.add_edge(\"classification_node\", \"entity_extraction\")\n",
    "workflow.add_edge(\"entity_extraction\", \"summarization_node\")\n",
    "workflow.add_edge(\"summarization_node\", END)\n",
    "\n",
    "graph = workflow.compile()\n",
    "\n",
    "\n"
   ],
   "id": "e016f723e056f4ed",
   "outputs": [],
   "execution_count": 36
  },
  {
   "metadata": {
    "ExecuteTime": {
     "end_time": "2025-02-23T18:49:23.789383Z",
     "start_time": "2025-02-23T18:49:23.716290Z"
    }
   },
   "cell_type": "code",
   "source": [
    "from langchain_core.runnables.graph import MermaidDrawMethod\n",
    "\n",
    "display(\n",
    "    Image(\n",
    "        graph.get_graph().draw_mermaid_png(\n",
    "            draw_method=MermaidDrawMethod.API,\n",
    "        )\n",
    "    )\n",
    ")"
   ],
   "id": "d9e9be20cfc5f925",
   "outputs": [
    {
     "data": {
      "image/png": "[encoded data removed]",
      "text/plain": [
       "<IPython.core.display.Image object>"
      ]
     },
     "metadata": {},
     "output_type": "display_data"
    }
   ],
   "execution_count": 37
  },
  {
   "metadata": {
    "ExecuteTime": {
     "end_time": "2025-02-23T18:49:26.344987Z",
     "start_time": "2025-02-23T18:49:24.631007Z"
    }
   },
   "cell_type": "code",
   "source": [
    "sample_text = \"\"\"\n",
    "OpenAI has announced the GPT-4 model, which is a large multimodal model that exhibits human-level performance on various professional benchmarks. It is developed to improve the alignment and safety of AI systems.\n",
    "additionally, the model is designed to be more efficient and scalable than its predecessor, GPT-3. The GPT-4 model is expected to be released in the coming months and will be available to the public for research and development purposes.\n",
    "\"\"\"\n",
    "state_input = {\"text\": sample_text}\n",
    "result = graph.invoke(state_input)\n",
    "\n",
    "result"
   ],
   "id": "16b76784b8616b35",
   "outputs": [
    {
     "data": {
      "text/plain": [
       "{'text': '\\nOpenAI has announced the GPT-4 model, which is a large multimodal model that exhibits human-level performance on various professional benchmarks. It is developed to improve the alignment and safety of AI systems.\\nadditionally, the model is designed to be more efficient and scalable than its predecessor, GPT-3. The GPT-4 model is expected to be released in the coming months and will be available to the public for research and development purposes.\\n',\n",
       " 'classification': 'News',\n",
       " 'entities': ['OpenAI', ' GPT-4', ' GPT-3'],\n",
       " 'summary': 'OpenAI has revealed the GPT-4 model, a large multimodal model with human-level performance on professional benchmarks, aimed at improving AI alignment and safety, and expected to be more efficient and scalable than GPT-3.'}"
      ]
     },
     "execution_count": 38,
     "metadata": {},
     "output_type": "execute_result"
    }
   ],
   "execution_count": 38
  }
 ],
 "metadata": {
  "kernelspec": {
   "display_name": "Python 3",
   "language": "python",
   "name": "python3"
  },
  "language_info": {
   "codemirror_mode": {
    "name": "ipython",
    "version": 2
   },
   "file_extension": ".py",
   "mimetype": "text/x-python",
   "name": "python",
   "nbconvert_exporter": "python",
   "pygments_lexer": "ipython2",
   "version": "2.7.6"
  }
 },
 "nbformat": 4,
 "nbformat_minor": 5
}
