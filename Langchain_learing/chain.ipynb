{
 "cells": [
  {
   "metadata": {},
   "cell_type": "markdown",
   "source": "",
   "id": "324681abccc23aeb"
  },
  {
   "metadata": {
    "ExecuteTime": {
     "end_time": "2025-03-07T18:57:44.048431Z",
     "start_time": "2025-03-07T18:57:44.022360Z"
    }
   },
   "cell_type": "code",
   "source": [
    "import os\n",
    "from itertools import chain\n",
    "\n",
    "from IPython.core.debugger import prompt\n",
    "from dotenv import load_dotenv\n",
    "from langchain_core.output_parsers import StrOutputParser\n",
    "from langchain_core.prompts import ChatPromptTemplate\n",
    "from langchain_core.runnables import Runnable, RunnableLambda\n",
    "from langchain.schema.output_parser import StrOutputParser\n",
    "\n",
    "load_dotenv(r\"H:\\My_LangGraph_toturial\\.env\")\n",
    "os.environ[\"OPENAI_API_KEY\"] = os.getenv(\"OPENAI_API_KEY\")\n"
   ],
   "id": "f28f5af16fcfa784",
   "outputs": [],
   "execution_count": 14
  },
  {
   "metadata": {},
   "cell_type": "markdown",
   "source": "### Runnable code",
   "id": "d34829765ee7537"
  },
  {
   "metadata": {
    "ExecuteTime": {
     "end_time": "2025-03-07T18:50:22.778517Z",
     "start_time": "2025-03-07T18:50:21.138543Z"
    }
   },
   "cell_type": "code",
   "source": [
    "from langchain_openai import ChatOpenAI\n",
    "model = ChatOpenAI(model_name=\"gpt-3.5-turbo\")\n",
    "prompt_template = ChatPromptTemplate.from_messages(\n",
    "    messages=[\n",
    "        (\"system\", \"you love facts and you tell facts about {animal}\"),\n",
    "        (\"user\", \"tell {count} about {animal}\")\n",
    "    ]\n",
    ")\n",
    "\n",
    "def format_prompt(context):\n",
    "    return prompt_template.format(**context)\n",
    "def invoke_model(context):\n",
    "    return model.invoke(context)\n",
    "def parse_output(context):\n",
    "    return context.content\n",
    "\n",
    "format_prompt = RunnableLambda(format_prompt)\n",
    "# output = format_prompt.invoke({\"animal\": \"dog\", \"count\": 3})\n",
    "# print(output)\n",
    "invoke_model = RunnableLambda(invoke_model)\n",
    "\n",
    "# chain = format_prompt | invoke_model\n",
    "# output = chain.invoke({\"animal\": \"dog\", \"count\": 3})\n",
    "parse_output = RunnableLambda(parse_output)\n",
    "# print(parse_output)\n",
    "\n",
    "# Create the RunnableSequence (equivalent to the LCEL chain)\n",
    "# chain = RunnableSequence(first=format_prompt, middle=[invoke_model], last=parse_output)\n",
    "\n",
    "chain = format_prompt | invoke_model | parse_output\n",
    "output = chain.invoke({\"animal\": \"dog\", \"count\": 3})\n",
    "print(output)"
   ],
   "id": "9f4ac78bd1f213b2",
   "outputs": [
    {
     "name": "stdout",
     "output_type": "stream",
     "text": [
      "1. Dogs have an amazing sense of smell and can detect scents up to 100,000 times better than humans.\n",
      "2. The Basenji is the only dog breed that does not bark, instead they make a unique yodel-like sound called a \"barroo.\"\n",
      "3. The world's oldest known breed of domesticated dog is the Saluki, which dates back over 7,000 years.\n"
     ]
    }
   ],
   "execution_count": 11
  },
  {
   "metadata": {},
   "cell_type": "markdown",
   "source": "### Sequential Chain\n",
   "id": "20f76829ab3e225f"
  },
  {
   "metadata": {
    "ExecuteTime": {
     "end_time": "2025-03-07T19:00:13.486153Z",
     "start_time": "2025-03-07T19:00:11.707825Z"
    }
   },
   "cell_type": "code",
   "source": [
    "# Define prompt templates\n",
    "animal_facts_template = ChatPromptTemplate.from_messages(\n",
    "    [\n",
    "        (\"system\", \"You like telling facts and you tell facts about {animal}.\"),\n",
    "        (\"human\", \"Tell me {count} facts.\"),\n",
    "    ]\n",
    ")\n",
    "\n",
    "# Define a prompt template for translation to French\n",
    "translation_template = ChatPromptTemplate.from_messages(\n",
    "    [\n",
    "        (\"system\", \"You are a translator and convert the provided text into {language}.\"),\n",
    "        (\"human\", \"Translate the following text to {language}: {text}\"),\n",
    "    ]\n",
    ")\n",
    "\n",
    "# Define additional processing steps using RunnableLambda\n",
    "prepare_for_translation = RunnableLambda(lambda output: {\"text\": output, \"language\": \"french\"})\n",
    "\n",
    "chain = animal_facts_template | model | StrOutputParser()  | prepare_for_translation | translation_template | model | StrOutputParser()\n",
    "result = chain.invoke({\"animal\": \"dog\", \"count\": 1})\n",
    "result"
   ],
   "id": "bf698581e9ec42d2",
   "outputs": [
    {
     "data": {
      "text/plain": [
       "\"Le sens de l'odorat d'un chien est jusqu'à 100 000 fois plus sensible que celui d'un humain, ce qui leur permet de détecter des odeurs à de grandes distances et même sous terre.\""
      ]
     },
     "execution_count": 21,
     "metadata": {},
     "output_type": "execute_result"
    }
   ],
   "execution_count": 21
  },
  {
   "metadata": {},
   "cell_type": "markdown",
   "source": [
    "### Parallel Chain\n",
    "#### Imagine you have an article or blog post, and you want to:\n",
    "* Summarize it in plain English.\n",
    "* Extract Key Entities (like people or places mentioned).\n",
    "* Generate an SEO-friendly Title.\n",
    "* Each of these tasks can run in parallel. Then, you’ll combine the results at the end."
   ],
   "id": "1f7a90a44f8c2b22"
  },
  {
   "metadata": {
    "ExecuteTime": {
     "end_time": "2025-03-07T19:36:23.090484Z",
     "start_time": "2025-03-07T19:36:21.698548Z"
    }
   },
   "cell_type": "code",
   "source": [
    "from langchain.schema.runnable import RunnableParallel\n",
    "\n",
    "def format_summary_prompt(content):\n",
    "    summary_template = ChatPromptTemplate.from_messages(\n",
    "    [\n",
    "        (\"system\", \"You are an AI assistant that summarizes text.\"),\n",
    "        (\"human\", \"Please summarize this article:\\n{article_content}\")\n",
    "    ]\n",
    "    )\n",
    "    return summary_template.format_prompt(article_content=content)\n",
    "\n",
    "def format_entity_prompt(content):\n",
    "    entity_template = ChatPromptTemplate.from_messages(\n",
    "    [\n",
    "        (\"system\", \"You are an AI assistant that extracts key entities from text.\"),\n",
    "        (\"human\", \"Identify the main people, organizations, and places in this text:\\n{article_content}\")\n",
    "    ]\n",
    "    )\n",
    "    return entity_template.format_prompt(article_content=content)\n",
    "\n",
    "def format_title_prompt(content):\n",
    "    title_template = ChatPromptTemplate.from_messages(\n",
    "    [\n",
    "        (\"system\", \"You are an AI assistant that creates SEO-friendly titles.\"),\n",
    "        (\"human\", \"Create an SEO-friendly title for this article:\\n{article_content}\")\n",
    "    ]\n",
    "    )\n",
    "    return title_template.format_prompt(article_content=content)\n",
    "\n",
    "summary_branch = (\n",
    "    RunnableLambda(lambda x: format_summary_prompt(x))  # Format prompt\n",
    "    | model                                            # Call the LLM\n",
    "    | StrOutputParser()                                # Parse output to string\n",
    ")\n",
    "\n",
    "entity_branch = (\n",
    "    RunnableLambda(lambda x: format_entity_prompt(x))\n",
    "    | model\n",
    "    | StrOutputParser()\n",
    ")\n",
    "\n",
    "title_branch = (\n",
    "    RunnableLambda(lambda x: format_title_prompt(x))\n",
    "    | model\n",
    "    | StrOutputParser()\n",
    ")\n",
    "\n",
    "parallel_chain = RunnableParallel(\n",
    "    branches={\n",
    "        \"summary\": summary_branch,\n",
    "        \"entities\": entity_branch,\n",
    "        \"title\": title_branch\n",
    "    }\n",
    ")\n",
    "\n",
    "def combine_results(results):\n",
    "    summary = results['branches'][\"summary\"]  # branch output has the same key as the branch name\n",
    "    entities = results['branches'][\"entities\"]\n",
    "    title = results['branches'][\"title\"]\n",
    "    return f\"---\\nTitle: {title}\\n\\n\\n\\n Summary:\\n{summary}\\n\\n\\n\\n Key Entities:\\n{entities}\\n---\"\n",
    "combine_results = RunnableLambda(combine_results)\n",
    "\n",
    "prompt_1 = ChatPromptTemplate.from_messages(\n",
    "    [\n",
    "        (\"system\", \"You are an AI assistant.\"),\n",
    "        (\"human\", \"Summarize, extract key entities, and generate an SEO-friendly title for this article:\\n{article_content}\"),\n",
    "    ]\n",
    ")\n",
    "\n",
    "final_chain = (\n",
    "        prompt_1 | parallel_chain | combine_results\n",
    ")\n",
    "\n",
    "article_text = \"\"\"\n",
    "OpenAI, based in San Francisco, has partnered with various organizations to advance AI research.\n",
    "Many experts, including Sam Altman, have contributed to its success.\n",
    "\"\"\"\n",
    "\n",
    "result = final_chain.invoke({\"article_content\" : article_text})\n",
    "result\n"
   ],
   "id": "e8b458de0615ff6",
   "outputs": [
    {
     "data": {
      "text/plain": [
       "'---\\nTitle: \"OpenAI\\'s Partnership and Success in Advancing AI Research: Insights from Key Experts\"\\n\\n\\n\\n Summary:\\nThe article is about OpenAI, a company based in San Francisco, that has partnered with different organizations to advance AI research. The success of OpenAI has been attributed to the contributions of many experts, including Sam Altman. The key entities are OpenAI, San Francisco, AI research, and Sam Altman. An SEO-friendly title for this article could be: \"OpenAI’s Success in AI Research: A Collaborative Partnership with Organizations Led by Sam Altman.\"\\n\\n\\n\\n Key Entities:\\nBased on the provided text, the key entities are:\\n\\nPeople:\\n- Sam Altman\\n\\nOrganizations:\\n- OpenAI\\n\\nPlaces:\\n- San Francisco\\n---'"
      ]
     },
     "execution_count": 27,
     "metadata": {},
     "output_type": "execute_result"
    }
   ],
   "execution_count": 27
  },
  {
   "metadata": {},
   "cell_type": "code",
   "outputs": [],
   "execution_count": null,
   "source": "",
   "id": "c577917c93a02795"
  },
  {
   "metadata": {},
   "cell_type": "code",
   "outputs": [],
   "execution_count": null,
   "source": [
    "summary_template = ChatPromptTemplate.from_messages(\n",
    "    [\n",
    "        (\"system\", \"You are a movie critic.\"),\n",
    "        (\"human\", \"Provide a brief summary of the movie {movie_name}.\"),\n",
    "    ]\n",
    ")\n",
    "\n",
    "# Define plot analysis step\n",
    "def analyze_plot(plot):\n",
    "    plot_template = ChatPromptTemplate.from_messages(\n",
    "        [\n",
    "            (\"system\", \"You are a movie critic.\"),\n",
    "            (\"human\", \"Analyze the plot: {plot}. What are its strengths and weaknesses?\"),\n",
    "        ]\n",
    "    )\n",
    "    return plot_template.format_prompt(plot=plot)\n",
    "\n",
    "# Define character analysis step\n",
    "def analyze_characters(characters):\n",
    "    character_template = ChatPromptTemplate.from_messages(\n",
    "        [\n",
    "            (\"system\", \"You are a movie critic.\"),\n",
    "            (\"human\", \"Analyze the characters: {characters}. What are their strengths and weaknesses?\"),\n",
    "        ]\n",
    "    )\n",
    "    return character_template.format_prompt(characters=characters)\n",
    "\n",
    "# Combine analyses into a final verdict\n",
    "def combine_verdicts(plot_analysis, character_analysis):\n",
    "    return f\"Plot Analysis:\\n{plot_analysis}\\n\\nCharacter Analysis:\\n{character_analysis}\"\n",
    "\n",
    "# Simplify branches with LCEL\n",
    "plot_branch_chain = (\n",
    "    RunnableLambda(lambda x: analyze_plot(x)) | model | StrOutputParser()\n",
    ")\n",
    "\n",
    "character_branch_chain = (\n",
    "    RunnableLambda(lambda x: analyze_characters(x)) | model | StrOutputParser()\n",
    ")\n",
    "\n",
    "# Create the combined chain using LangChain Expression Language (LCEL)\n",
    "chain = (\n",
    "    summary_template\n",
    "    | model\n",
    "    | StrOutputParser()\n",
    "    | RunnableParallel(branches={\"plot\": plot_branch_chain, \"characters\": character_branch_chain})\n",
    "    | RunnableLambda(lambda x: combine_verdicts(x[\"branches\"][\"plot\"], x[\"branches\"][\"characters\"]))\n",
    ")\n",
    "\n",
    "# Run the chain\n",
    "result = chain.invoke({\"movie_name\": \"Inception\"})"
   ],
   "id": "ebf89ef2b8c70e87"
  },
  {
   "metadata": {
    "ExecuteTime": {
     "end_time": "2025-03-08T10:09:14.583764Z",
     "start_time": "2025-03-08T10:09:07.881919Z"
    }
   },
   "cell_type": "code",
   "source": [
    "from typing import TypedDict, List, Annotated\n",
    "from langgraph.graph import StateGraph, END , START\n",
    "from langchain.prompts import ChatPromptTemplate\n",
    "\n",
    "class GraphState(TypedDict):\n",
    "    movie_name: str\n",
    "    summary : str\n",
    "    plot_analysis: str\n",
    "    character_analysis: str\n",
    "    final_verdict: str\n",
    "\n",
    "\n",
    "def analyze_characters(characters):\n",
    "\n",
    "    return character_template.format_prompt(characters=characters)\n",
    "# Define Node Functions\n",
    "def summary_node(state: GraphState) -> GraphState:\n",
    "    # Define Templates (same as original)\n",
    "    summary_template = ChatPromptTemplate.from_messages(\n",
    "        [\n",
    "            (\"system\", \"You are a movie critic.\"),\n",
    "            (\"human\", \"Provide a brief summary of the movie {movie_name}.\"),\n",
    "        ]\n",
    "    )\n",
    "    chain = summary_template | model | StrOutputParser()\n",
    "    summary = chain.invoke({\"movie_name\": state[\"movie_name\"]})\n",
    "    return {\"summary\": summary}\n",
    "\n",
    "def plot_analysis_node(state: GraphState) -> GraphState:\n",
    "    # Generate the plot analysis\n",
    "    plot_template = ChatPromptTemplate.from_messages(\n",
    "        [\n",
    "            (\"system\", \"You are a movie critic.\"),\n",
    "            (\"human\", \"Analyze the plot: {plot}. What are its strengths and weaknesses?\"),\n",
    "        ]\n",
    "    )\n",
    "    chain = plot_template | model | StrOutputParser()\n",
    "    chain_output = chain.invoke({\"plot\": state[\"summary\"]})\n",
    "    return {\"plot_analysis\": chain_output}\n",
    "\n",
    "def character_analysis_node(state: GraphState) -> GraphState:\n",
    "    # Analyze the characters from the summary\n",
    "    character_template = ChatPromptTemplate.from_messages(\n",
    "        [\n",
    "            (\"system\", \"You are a movie critic.\"),\n",
    "            (\"human\", \"Analyze the characters: {characters}. What are their strengths and weaknesses?\"),\n",
    "        ]\n",
    "    )\n",
    "\n",
    "    chain =  character_template | model | StrOutputParser()\n",
    "    character_analysis = chain.invoke({\"characters\":state[\"summary\"]})\n",
    "    return {\"character_analysis\": character_analysis}\n",
    "\n",
    "def combine_verdicts_node(state: GraphState) -> GraphState:\n",
    "    # Combine plot and character analyses\n",
    "    final_verdict = f\"Plot Analysis:\\n{state['plot_analysis']}\\n\\nCharacter Analysis:\\n{state['character_analysis']}\"\n",
    "    return {\"final_verdict\": final_verdict}\n",
    "\n",
    "workflow = StateGraph(state_schema=GraphState)\n",
    "\n",
    "# Add nodes\n",
    "workflow.add_node(\"summary_node\", summary_node)\n",
    "workflow.add_node(\"plot_analysis_node\", plot_analysis_node)\n",
    "workflow.add_node(\"character_analysis_node\", character_analysis_node)\n",
    "workflow.add_node(\"combine_verdicts\", combine_verdicts_node)\n",
    "\n",
    "workflow.set_entry_point(\"summary_node\")\n",
    "workflow.add_edge(\"summary_node\", \"plot_analysis_node\")  # Summary -> Plot Analysis\n",
    "workflow.add_edge(\"summary_node\", \"character_analysis_node\")  # Summary -> Character Analysis\n",
    "workflow.add_edge(\"plot_analysis_node\", \"combine_verdicts\")  # Plot -> Combine\n",
    "workflow.add_edge(\"character_analysis_node\", \"combine_verdicts\")  # Character -> Combine\n",
    "workflow.add_edge(\"combine_verdicts\", END)  # Combine -> End\n",
    "graph = workflow.compile()\n",
    "# Run the graph\n",
    "initial_state = {\"movie_name\": \"Inception\"}\n",
    "result = graph.invoke(initial_state)\n",
    "print(result[\"final_verdict\"])\n",
    "\n"
   ],
   "id": "4376bed4bb7e4b44",
   "outputs": [
    {
     "name": "stdout",
     "output_type": "stream",
     "text": [
      "Plot Analysis:\n",
      "\"Inception\" stands out as a complex and thought-provoking film that offers a unique and intricate plot. The concept of entering dreams within dreams is fascinating and provides a platform for exploring deep philosophical themes such as the nature of reality, the power of memories, and the subconscious mind. Director Christopher Nolan skillfully navigates through multiple layers of dreams, creating a visually stunning and immersive experience for the audience.\n",
      "\n",
      "One of the film's strengths lies in its stellar ensemble cast, led by Leonardo DiCaprio as Dom Cobb. The performances are strong and help to ground the fantastical elements of the plot in emotional depth. The film also boasts impressive visual effects and action sequences that keep viewers engaged throughout.\n",
      "\n",
      "However, one weakness of \"Inception\" is the complexity of its narrative. The intricate layers of dreams and the rules governing them can be challenging to follow for some viewers, potentially leading to confusion or disengagement. Additionally, some critics have pointed out that the film's heavy exposition and dialogue can sometimes detract from the overall storytelling experience.\n",
      "\n",
      "Overall, \"Inception\" is a bold and ambitious film that pushes the boundaries of traditional storytelling. While its complexity may be intimidating for some, its thematic depth, stellar performances, and stunning visuals make it a compelling and memorable cinematic experience.\n",
      "\n",
      "Character Analysis:\n",
      "\" Inception\" features a diverse cast of characters, each with their own strengths and weaknesses, contributing to the complexity and depth of the story. Let's analyze some of the key characters:\n",
      "\n",
      "1. Dom Cobb (Leonardo DiCaprio): \n",
      "Strengths: Cobb is highly skilled at navigating dream layers and manipulating the subconscious mind. He is a master of extraction and has a deep understanding of how dreams work. Cobb is determined and resourceful, willing to go to great lengths to achieve his goals.\n",
      "Weaknesses: Cobb is haunted by his past and struggles with guilt and grief, which can sometimes cloud his judgement and affect his ability to differentiate between reality and dreams. His emotional baggage poses a significant obstacle throughout the film.\n",
      "\n",
      "2. Arthur (Joseph Gordon-Levitt):\n",
      "Strengths: Arthur is Cobb's trusted partner and a skilled point man with excellent organizational and strategic skills. He is logical, level-headed, and adept at problem-solving, making him an invaluable asset to the team.\n",
      "Weaknesses: Arthur's pragmatic nature can sometimes make him overly cautious, leading to conflicts with Cobb's more daring and risk-taking approach. He can also be perceived as being too rigid in his thinking, which may limit his ability to adapt to unexpected situations.\n",
      "\n",
      "3. Ariadne (Ellen Page):\n",
      "Strengths: Ariadne is a talented architect who possesses a unique ability to design and create intricate dream worlds. She brings fresh perspective and creativity to the team, challenging their conventional methods and pushing boundaries.\n",
      "Weaknesses: Ariadne's inexperience and curiosity can make her susceptible to the dangers of delving too deep into the dream world. She struggles with the moral implications of manipulating others' subconscious minds and faces internal conflicts as she grapples with the ethical consequences of their actions.\n",
      "\n",
      "4. Eames (Tom Hardy):\n",
      "Strengths: Eames is a versatile forger with the ability to assume different identities within dreams, adding a layer of deception and subterfuge to the team's operations. He is charismatic, quick-witted, and capable of thinking on his feet in high-pressure situations.\n",
      "Weaknesses: Eames' penchant for risk-taking and his sometimes cavalier attitude can put the team in jeopardy. His inclination towards improvisation and unpredictability may also create tension within the group and lead to unanticipated complications.\n",
      "\n",
      "Overall, the characters in \"Inception\" are intricately developed with a mix of strengths and weaknesses that contribute to the complexity of the narrative and drive the thematic exploration of reality, memory, and the power of the subconscious mind. Each character's personal struggles and vulnerabilities add layers of depth to the story, creating a compelling and dynamic ensemble.\n"
     ]
    }
   ],
   "execution_count": 32
  },
  {
   "metadata": {
    "ExecuteTime": {
     "end_time": "2025-03-08T10:10:09.677643Z",
     "start_time": "2025-03-08T10:10:09.113987Z"
    }
   },
   "cell_type": "code",
   "source": [
    "from IPython.core.display import Image\n",
    "\n",
    "# View\n",
    "display(Image(graph.get_graph().draw_mermaid_png()))"
   ],
   "id": "34ccf92ae8d927a8",
   "outputs": [
    {
     "data": {
      "image/png": "[encoded data removed]",
      "text/plain": [
       "<IPython.core.display.Image object>"
      ]
     },
     "metadata": {},
     "output_type": "display_data"
    }
   ],
   "execution_count": 33
  },
  {
   "metadata": {
    "ExecuteTime": {
     "end_time": "2025-03-08T10:35:19.618462Z",
     "start_time": "2025-03-08T10:35:16.713300Z"
    }
   },
   "cell_type": "code",
   "source": [
    "!pip install -Uq pydantic[email]\n",
    "from pydantic_core.core_schema import ValidationInfo\n",
    "from typing import Optional\n",
    "from pydantic import BaseModel, field_validator\n",
    "from pydantic import BaseModel, Field, EmailStr\n",
    "\n",
    "class StudentEntity(BaseModel):\n",
    "    \"\"\"\n",
    "    A general entity class for a student with field validation.\n",
    "    All fields have default values set to None.\n",
    "    \"\"\"\n",
    "    id: Optional[int] = Field(default=None, description=\"Unique identifier for the student\")\n",
    "    name: Optional[str] = Field(default=None, description=\"Full name of the student\")\n",
    "    email: Optional[EmailStr] = Field(default=None, description=\"Email address of the student\")\n",
    "    age: Optional[int] = Field(default=None, ge=0, le=120, description=\"Age of the student (must be between 0 and 120)\")\n",
    "    grade: Optional[str] = Field(default=None, description=\"Grade or academic level of the student\")\n",
    "    enrolled: Optional[bool] = Field(default=None, description=\"Enrollment status of the student\")\n",
    "\n",
    "    @field_validator('name')\n",
    "    @classmethod\n",
    "    def name_must_contain_space(cls, v: str) -> str:\n",
    "        if ' ' not in v:\n",
    "            raise ValueError('must contain a space')\n",
    "        return v.title()\n",
    "\n",
    "    @field_validator('id', 'name')\n",
    "    @classmethod\n",
    "    def check_alphanumeric(cls, v: str, info: ValidationInfo) -> str:\n",
    "        if isinstance(v, str):\n",
    "            is_alphanumeric = v.replace(' ', '').isalnum()\n",
    "            assert is_alphanumeric, f'{info.field_name} must be alphanumeric'\n",
    "        return v\n",
    "\n",
    "class GraphState(TypedDict):\n",
    "    student: StudentEntity\n",
    "    entities: str\n",
    "    summary : str\n",
    "    article_content : str\n",
    "    title : str\n",
    "    final_result : str\n",
    "\n"
   ],
   "id": "edb14f617e715fbd",
   "outputs": [],
   "execution_count": 42
  },
  {
   "metadata": {
    "ExecuteTime": {
     "end_time": "2025-03-08T10:35:47.712493Z",
     "start_time": "2025-03-08T10:35:47.218541Z"
    }
   },
   "cell_type": "code",
   "source": [
    "# Define Prompt Formatting Functions (same as original)\n",
    "def format_summary_prompt(content):\n",
    "    summary_template = ChatPromptTemplate.from_messages(\n",
    "        [\n",
    "            (\"system\", \"You are an AI assistant that summarizes text.\"),\n",
    "            (\"human\", \"Please summarize this article:\\n{article_content}\")\n",
    "        ]\n",
    "    )\n",
    "    return summary_template.format_prompt(article_content=content)\n",
    "\n",
    "def format_entity_prompt(content):\n",
    "    entity_template = ChatPromptTemplate.from_messages(\n",
    "        [\n",
    "            (\"system\", \"You are an AI assistant that extracts key entities from text.\"),\n",
    "            (\"human\", \"Identify the main people, organizations, and places in this text:\\n{article_content}\")\n",
    "        ]\n",
    "    )\n",
    "    return entity_template.format_prompt(article_content=content)\n",
    "\n",
    "def format_title_prompt(content):\n",
    "    title_template = ChatPromptTemplate.from_messages(\n",
    "        [\n",
    "            (\"system\", \"You are an AI assistant that creates SEO-friendly titles.\"),\n",
    "            (\"human\", \"Create an SEO-friendly title for this article:\\n{article_content}\")\n",
    "        ]\n",
    "    )\n",
    "    return title_template.format_prompt(article_content=content)\n",
    "\n",
    "# Define Node Functions\n",
    "def entry_node(state: GraphState) -> GraphState:\n",
    "    # Simply pass the article content to the next nodes\n",
    "    return {\"article_content\": state[\"article_content\"]}\n",
    "def summary_node(state: GraphState) -> GraphState:\n",
    "    chain = RunnableLambda(lambda x: format_summary_prompt(x)) | model | StrOutputParser()\n",
    "    summary = chain.invoke(state[\"article_content\"])\n",
    "    return {\"summary\": summary}\n",
    "\n",
    "def entity_node(state: GraphState) -> GraphState:\n",
    "    chain = RunnableLambda(lambda x: format_entity_prompt(x)) | model | StrOutputParser()\n",
    "    entities = chain.invoke(state[\"article_content\"])\n",
    "    return {\"entities\": entities}\n",
    "\n",
    "def title_node(state: GraphState) -> GraphState:\n",
    "    chain = RunnableLambda(lambda x: format_title_prompt(x)) | model | StrOutputParser()\n",
    "    title = chain.invoke(state[\"article_content\"])\n",
    "    return {\"title\": title}\n",
    "\n",
    "def combine_node(state: GraphState) -> GraphState:\n",
    "    final_result = (\n",
    "        f\"---\\n\"\n",
    "        f\"Title: {state['title']}\\n\\n\\n\\n\"\n",
    "        f\"Summary:\\n{state['summary']}\\n\\n\\n\\n\"\n",
    "        f\"Key Entities:\\n{state['entities']}\\n\"\n",
    "        f\"---\"\n",
    "    )\n",
    "    return {\"final_result\": final_result}\n",
    "# Build the Graph\n",
    "workflow = StateGraph(GraphState)\n",
    "\n",
    "# Add nodes\n",
    "workflow.add_node(\"entry\", entry_node)\n",
    "workflow.add_node(\"summary_node\", summary_node)\n",
    "workflow.add_node(\"entity_node\", entity_node)\n",
    "workflow.add_node(\"title_node\", title_node)\n",
    "workflow.add_node(\"combine\", combine_node)\n",
    "\n",
    "# Define edges\n",
    "workflow.add_edge(START,\"entry\")  # Start with entry node\n",
    "workflow.add_edge(\"entry\", \"summary_node\")  # Entry -> Summary\n",
    "workflow.add_edge(\"entry\", \"entity_node\")  # Entry -> Entities\n",
    "workflow.add_edge(\"entry\", \"title_node\")  # Entry -> Title\n",
    "workflow.add_edge(\"summary_node\", \"combine\")  # Summary -> Combine\n",
    "workflow.add_edge(\"entity_node\", \"combine\")  # Entities -> Combine\n",
    "workflow.add_edge(\"title_node\", \"combine\")  # Title -> Combine\n",
    "workflow.add_edge(\"combine\", END)  # Combine -> End\n",
    "\n",
    "# Compile the graph\n",
    "graph = workflow.compile()\n",
    "from IPython.core.display import Image\n",
    "\n",
    "# View\n",
    "display(Image(graph.get_graph().draw_mermaid_png()))"
   ],
   "id": "1aab13f8a44d9d63",
   "outputs": [
    {
     "data": {
      "image/png": "[encoded data removed]",
      "text/plain": [
       "<IPython.core.display.Image object>"
      ]
     },
     "metadata": {},
     "output_type": "display_data"
    }
   ],
   "execution_count": 44
  },
  {
   "metadata": {
    "ExecuteTime": {
     "end_time": "2025-03-08T10:35:52.901059Z",
     "start_time": "2025-03-08T10:35:51.973681Z"
    }
   },
   "cell_type": "code",
   "source": [
    "# Run the graph\n",
    "article_text = \"\"\"\n",
    "OpenAI, based in San Francisco, has partnered with various organizations to advance AI research.\n",
    "Many experts, including Sam Altman, have contributed to its success.\n",
    "\"\"\"\n",
    "initial_state = {\"article_content\": article_text}\n",
    "result = graph.invoke(initial_state)\n",
    "result"
   ],
   "id": "8330aca402b37331",
   "outputs": [
    {
     "data": {
      "text/plain": [
       "{'entities': 'People:\\n1. Sam Altman\\n\\nOrganizations:\\n1. OpenAI\\n\\nPlaces:\\n1. San Francisco',\n",
       " 'summary': \"The article discusses OpenAI's partnerships with organizations to advance AI research, with contributions from experts like Sam Altman.\",\n",
       " 'article_content': '\\nOpenAI, based in San Francisco, has partnered with various organizations to advance AI research.\\nMany experts, including Sam Altman, have contributed to its success.\\n',\n",
       " 'title': '\"OpenAI\\'s Strategic Partnerships in San Francisco Driving AI Research Advancement with Support from Key Industry Experts like Sam Altman\"',\n",
       " 'final_result': '---\\nTitle: \"OpenAI\\'s Strategic Partnerships in San Francisco Driving AI Research Advancement with Support from Key Industry Experts like Sam Altman\"\\n\\n\\n\\nSummary:\\nThe article discusses OpenAI\\'s partnerships with organizations to advance AI research, with contributions from experts like Sam Altman.\\n\\n\\n\\nKey Entities:\\nPeople:\\n1. Sam Altman\\n\\nOrganizations:\\n1. OpenAI\\n\\nPlaces:\\n1. San Francisco\\n---'}"
      ]
     },
     "execution_count": 45,
     "metadata": {},
     "output_type": "execute_result"
    }
   ],
   "execution_count": 45
  },
  {
   "metadata": {},
   "cell_type": "markdown",
   "source": "### Conditional Chain",
   "id": "cc8c0bc629b6ef6a"
  },
  {
   "metadata": {
    "ExecuteTime": {
     "end_time": "2025-03-07T19:46:20.214212Z",
     "start_time": "2025-03-07T19:46:18.708132Z"
    }
   },
   "cell_type": "code",
   "source": [
    "from langchain.schema.runnable import RunnableBranch\n",
    "# Define prompt templates for different feedback types\n",
    "positive_feedback_template = ChatPromptTemplate.from_messages(\n",
    "    [\n",
    "        (\"system\", \"You are a helpful assistant.\"),\n",
    "        (\"human\",\n",
    "         \"Generate a thank you note for this positive feedback: {feedback}.\"),\n",
    "    ]\n",
    ")\n",
    "\n",
    "negative_feedback_template = ChatPromptTemplate.from_messages(\n",
    "    [\n",
    "        (\"system\", \"You are a helpful assistant.\"),\n",
    "        (\"human\",\n",
    "         \"Generate a response addressing this negative feedback: {feedback}.\"),\n",
    "    ]\n",
    ")\n",
    "\n",
    "neutral_feedback_template = ChatPromptTemplate.from_messages(\n",
    "    [\n",
    "        (\"system\", \"You are a helpful assistant.\"),\n",
    "        (\n",
    "            \"human\",\n",
    "            \"Generate a request for more details for this neutral feedback: {feedback}.\",\n",
    "        ),\n",
    "    ]\n",
    ")\n",
    "\n",
    "escalate_feedback_template = ChatPromptTemplate.from_messages(\n",
    "    [\n",
    "        (\"system\", \"You are a helpful assistant.\"),\n",
    "        (\n",
    "            \"human\",\n",
    "            \"Generate a message to escalate this feedback to a human agent: {feedback}.\",\n",
    "        ),\n",
    "    ]\n",
    ")\n",
    "\n",
    "# Define the feedback classification template\n",
    "classification_template = ChatPromptTemplate.from_messages(\n",
    "    [\n",
    "        (\"system\", \"You are a helpful assistant.\"),\n",
    "        (\"human\",\n",
    "         \"Classify the sentiment of this feedback as positive, negative, neutral, or escalate: {feedback}.\"),\n",
    "    ]\n",
    ")\n",
    "\n",
    "# Define the runnable branches for handling feedback\n",
    "branches = RunnableBranch(\n",
    "    (\n",
    "        lambda x: \"positive\" in x,\n",
    "        positive_feedback_template | model | StrOutputParser()  # Positive feedback chain\n",
    "    ),\n",
    "    (\n",
    "        lambda x: \"negative\" in x,\n",
    "        negative_feedback_template | model | StrOutputParser()  # Negative feedback chain\n",
    "    ),\n",
    "    (\n",
    "        lambda x: \"neutral\" in x,\n",
    "        neutral_feedback_template | model | StrOutputParser()  # Neutral feedback chain\n",
    "    ),\n",
    "    escalate_feedback_template | model | StrOutputParser()\n",
    ")\n",
    "\n",
    "# Create the classification chain\n",
    "classification_chain = classification_template | model | StrOutputParser()\n",
    "\n",
    "# Combine classification and response generation into one chain\n",
    "chain = classification_chain | branches\n",
    "\n",
    "# Run the chain with an example review\n",
    "# Good review - \"The product is excellent. I really enjoyed using it and found it very helpful.\"\n",
    "# Bad review - \"The product is terrible. It broke after just one use and the quality is very poor.\"\n",
    "# Neutral review - \"The product is okay. It works as expected but nothing exceptional.\"\n",
    "# Default - \"I'm not sure about the product yet. Can you tell me more about its features and benefits?\"\n",
    "\n",
    "review = \"The product is terrible. It broke after just one use and the quality is very poor.\"\n",
    "result = chain.invoke({\"feedback\": review})\n",
    "\n",
    "# Output the result\n",
    "print(result)"
   ],
   "id": "86f694945e38d057",
   "outputs": [
    {
     "name": "stdout",
     "output_type": "stream",
     "text": [
      "I'm sorry to hear that your experience has been negative. I will escalate your feedback to a human agent for further assistance. Thank you for bringing this to our attention. A representative will be in touch with you as soon as possible.\n"
     ]
    }
   ],
   "execution_count": 29
  },
  {
   "metadata": {},
   "cell_type": "code",
   "outputs": [],
   "execution_count": null,
   "source": "",
   "id": "2599c657a70b6e48"
  }
 ],
 "metadata": {
  "kernelspec": {
   "display_name": "Python 3",
   "language": "python",
   "name": "python3"
  },
  "language_info": {
   "codemirror_mode": {
    "name": "ipython",
    "version": 2
   },
   "file_extension": ".py",
   "mimetype": "text/x-python",
   "name": "python",
   "nbconvert_exporter": "python",
   "pygments_lexer": "ipython2",
   "version": "2.7.6"
  }
 },
 "nbformat": 4,
 "nbformat_minor": 5
}
